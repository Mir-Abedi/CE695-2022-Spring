{
 "cells": [
  {
   "cell_type": "code",
   "execution_count": 2,
   "id": "military-uruguay",
   "metadata": {},
   "outputs": [],
   "source": [
    "import pandas as pd\n",
    "import numpy as np\n",
    "import matplotlib.pyplot as plt\n",
    "from PIL import Image"
   ]
  },
  {
   "cell_type": "code",
   "execution_count": 3,
   "id": "controversial-concentration",
   "metadata": {},
   "outputs": [
    {
     "data": {
      "image/png": "[encoded data removed]",
      "text/plain": [
       "<PIL.PngImagePlugin.PngImageFile image mode=RGBA size=666x300 at 0x17FA5EE7310>"
      ]
     },
     "execution_count": 3,
     "metadata": {},
     "output_type": "execute_result"
    }
   ],
   "source": [
    "Image.open('img_noisy.png')"
   ]
  },
  {
   "cell_type": "code",
   "execution_count": 4,
   "id": "strong-xerox",
   "metadata": {},
   "outputs": [],
   "source": [
    "img = np.array(Image.open('img_noisy.png'))"
   ]
  },
  {
   "cell_type": "markdown",
   "id": "fossil-secretariat",
   "metadata": {},
   "source": [
    "# Part 1"
   ]
  },
  {
   "cell_type": "markdown",
   "id": "advanced-right",
   "metadata": {},
   "source": [
    "\n",
    "\n",
    "<br>\n",
    "<br>\n",
    "\n",
    "<div dir='rtl' style=\"font-size:135%\">\n",
    "    این الگوریتم یک حالت کلی دارد که برای بیزنت به حالت خیلی ساده تری دست میابد. در حالت کلی برای سمپل گرفتن از یک توزیع کلی برای $x_1, \\dots, x_n$ در ابتدا از یک initial value برای این مقادیر شروع میکنیم و سپس در هر مرحله از توزیع زیر نمونه برداری میکنیم.\n",
    "    <br>\n",
    "    <br>\n",
    "    $$\n",
    "    \\mathbb{P}(X_k^{i+1}|X_1^{i+1}, \\dots, X_{k - 1}^{i+1}, X_{k+1}^i, \\dots, X_n^i)\n",
    "    $$\n",
    "    <br>\n",
    "    <br>\n",
    "    این به آن معناست که از یک سری مقادیر رندوم شروع میکنیم و آنقدر از هرکدام از $X$ سمپل میگیریم تا به توزیع اصلی کانورج کنیم. این مورد در بیزنت ها بسیار بهتر است چرا که کافی است ترتیب $X_1, \\dots, X_n$ را به صورت topological sort در یک بیزنت درنظر بگیریم. آنگاه نمونه گیری از هر $X_k$ به صورت زیر تبدیل میشود.\n",
    "    <br>\n",
    "    <br>\n",
    "    $$\n",
    "    \\mathbb{P}(X_k^{i}|X_1^{i}, \\dots, X_{k-1}^{i}) = \\mathbb{P}(X_k^i| \\text{Par}(X_k))\n",
    "    $$\n",
    "    <br>\n",
    "    <br>\n",
    "    در اینجا تابع Par پدر های یک راس را برمیگرداند.\n",
    "    چرا که در بیزنت احتمال هرکدام از راس‌ها فقط به پدرهایش وابسته است.\n",
    "</div>\n",
    "\n",
    " "
   ]
  },
  {
   "cell_type": "markdown",
   "id": "located-mobility",
   "metadata": {},
   "source": [
    "# Part 2"
   ]
  },
  {
   "cell_type": "markdown",
   "id": "apart-classification",
   "metadata": {},
   "source": [
    "\n",
    "\n",
    "<br>\n",
    "<br>\n",
    "\n",
    "<div dir='rtl' style=\"font-size:135%\">\n",
    "    در اینجا صرفا کافی میباشد که توزیع زیر را مشخص کنیم:\n",
    "    <br>\n",
    "    <br>\n",
    "    $$\n",
    "    \\mathbb{P}(y_{ij}|N_{(i, j)}, x_{ij})\n",
    "    $$\n",
    "    <br>\n",
    "    <br>\n",
    "    که این مقدار را با استفاده از مقدار زیر میابیم:\n",
    "    <br>\n",
    "    <br>\n",
    "    $$\n",
    "    \\mathbb{P}(y_{ij}, N_{(i, j)}, x_{ij}) = \\sum_{\\text{Hidden Vars}}\\mathbb{P}(X, Y) = \\frac{1}{Z}\n",
    "    e^{\\sum_{n, m | n \\neq i, m\\neq j}\\eta x_{nm}y_{nm} + \\eta x_{ij}y_{ij} + \\beta\\sum_{i', j' = N(i, j)}y_{ij}y_{i'j'}}\n",
    "    $$\n",
    "    <br>\n",
    "    <br>\n",
    "    حال کافی است مقادیر زیر را محاسبه کنیم.\n",
    "    <br>\n",
    "    <br>\n",
    "    $$\n",
    "    \\mathbb{P}(y_{ij} = 1, N_{(i, j)}, x_{ij}), \\mathbb{P}(y_{ij} = -1, N_{(i, j)}, x_{ij})\n",
    "    $$\n",
    "    <br>\n",
    "    <br>\n",
    "    با استفاده از قانون بیز صورت سوال به صورت زیر ساده میشود:\n",
    "    <br>\n",
    "    <br>\n",
    "    $$\n",
    "    \\mathbb{P}(y_{ij}|N_{(i, j)}, x_{ij}) = \\frac{\\mathbb{P}(y_{ij} = 1, N_{(i, j)}, x_{ij})}{\\mathbb{P}(y_{ij} = 1, N_{(i, j)}, x_{ij}) + \\mathbb{P}(y_{ij} = -1, N_{(i, j)}, x_{ij})}\n",
    "    $$\n",
    "    <br>\n",
    "    <br>\n",
    "    $$\n",
    "    = \\frac{\\frac{1}{Z}e^{\\sum_{n, m | n \\neq i, m\\neq j}\\eta x_{nm}y_{nm} + \\eta x_{ij} + \\beta\\sum_{i', j' = N(i, j)}y_{i'j'}}}{\\frac{1}{Z}e^{\\sum_{n, m | n \\neq i, m\\neq j}\\eta x_{nm}y_{nm} + \\eta x_{ij} + \\beta\\sum_{i', j' = N(i, j)}y_{i'j'}} + \\frac{1}{Z}e^{\\sum_{n, m | n \\neq i, m\\neq j}\\eta x_{nm}y_{nm} - \\eta x_{ij} - \\beta\\sum_{i', j' = N(i, j)}y_{i'j'}}}\n",
    "    $$\n",
    "    <br>\n",
    "    <br>\n",
    "    $$\n",
    "    = \\frac{1}{1 + e^{-2\\eta x_{ij} - 2\\beta\\sum_{i', j' = N(i, j)}y_{i'j'}}}\n",
    "    $$\n",
    "    <br>\n",
    "    <br>\n",
    "    $$\n",
    "    = \\frac{1}{1 + e^{-2(\\eta x_{ij} + \\beta \\sum_{i', j' = N(i, j)}y_{i'j'})}}\n",
    "    $$\n",
    "</div>\n",
    "\n",
    " "
   ]
  },
  {
   "cell_type": "markdown",
   "id": "boolean-cooking",
   "metadata": {},
   "source": [
    "# Part 3"
   ]
  },
  {
   "cell_type": "code",
   "execution_count": 49,
   "id": "golden-replacement",
   "metadata": {},
   "outputs": [],
   "source": [
    "x = img[:, :, 0] / 127.5 - 1"
   ]
  },
  {
   "cell_type": "code",
   "execution_count": 53,
   "id": "vital-combine",
   "metadata": {},
   "outputs": [],
   "source": [
    "def neighbors(i, j, N, M):\n",
    "    ret = []\n",
    "    if i != 0:\n",
    "        ret.append((i - 1, j))\n",
    "    if i != N - 1:\n",
    "        ret.append((i + 1, j))\n",
    "    if j != 0:\n",
    "        ret.append((i, j - 1))\n",
    "    if j != M - 1:\n",
    "        ret.append((i, j + 1))\n",
    "    return ret"
   ]
  },
  {
   "cell_type": "code",
   "execution_count": 95,
   "id": "declared-girlfriend",
   "metadata": {},
   "outputs": [],
   "source": [
    "def prob_y(y, x, i, j, etta=1, beta=1):\n",
    "    w = etta*x[i, j] + beta*sum([y[t] for t in neighbors(i, j, y.shape[0], y.shape[1])])\n",
    "    return 1/(1 + np.exp(-2.*w))\n",
    "\n",
    "def random_bern(p):\n",
    "    if np.random.uniform() <= p:\n",
    "        return 1\n",
    "    return -1"
   ]
  },
  {
   "cell_type": "code",
   "execution_count": 96,
   "id": "circular-advocacy",
   "metadata": {},
   "outputs": [],
   "source": [
    "def gibbs(x, n = 1001):\n",
    "    arr = np.zeros((x.shape[0], x.shape[1], n))\n",
    "    arr[:, :, 0] = np.random.randint(2, size=x.shape)\n",
    "    \n",
    "    curr = arr[:, :, 0].copy()\n",
    "    for k in range(1, n):\n",
    "        for i in range(x.shape[0]):\n",
    "            for j in range(x.shape[1]):\n",
    "                p = prob_y(curr, x=x, i=i, j=j)\n",
    "                val = random_bern(p=p)\n",
    "                curr[i, j] = val\n",
    "                arr[i, j, k] = val\n",
    "    return (arr.sum(axis=2) > n//2) + 0"
   ]
  },
  {
   "cell_type": "code",
   "execution_count": 97,
   "id": "artificial-battery",
   "metadata": {},
   "outputs": [],
   "source": [
    "ans = gibbs(x=x, n=51)"
   ]
  },
  {
   "cell_type": "code",
   "execution_count": 98,
   "id": "tracked-shareware",
   "metadata": {},
   "outputs": [
    {
     "data": {
      "text/plain": [
       "<matplotlib.image.AxesImage at 0x17fbd1585b0>"
      ]
     },
     "execution_count": 98,
     "metadata": {},
     "output_type": "execute_result"
    },
    {
     "data": {
      "image/png": "[encoded data removed]",
      "text/plain": [
       "<Figure size 432x288 with 1 Axes>"
      ]
     },
     "metadata": {
      "needs_background": "light"
     },
     "output_type": "display_data"
    }
   ],
   "source": [
    "plt.imshow(127.5*(ans+1), cmap='gray')"
   ]
  }
 ],
 "metadata": {
  "kernelspec": {
   "display_name": "Python 3",
   "language": "python",
   "name": "python3"
  },
  "language_info": {
   "codemirror_mode": {
    "name": "ipython",
    "version": 3
   },
   "file_extension": ".py",
   "mimetype": "text/x-python",
   "name": "python",
   "nbconvert_exporter": "python",
   "pygments_lexer": "ipython3",
   "version": "3.9.6"
  }
 },
 "nbformat": 4,
 "nbformat_minor": 5
}

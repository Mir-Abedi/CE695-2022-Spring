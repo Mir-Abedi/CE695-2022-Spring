{
 "cells": [
  {
   "cell_type": "markdown",
   "id": "prescribed-clothing",
   "metadata": {},
   "source": [
    "# Part 1"
   ]
  },
  {
   "cell_type": "code",
   "execution_count": 3,
   "id": "initial-robinson",
   "metadata": {},
   "outputs": [],
   "source": [
    "import pandas as pd\n",
    "import numpy as np\n",
    "import matplotlib.pyplot as plt\n",
    "import json"
   ]
  },
  {
   "cell_type": "code",
   "execution_count": 5,
   "id": "manufactured-potato",
   "metadata": {},
   "outputs": [],
   "source": [
    "lines = None\n",
    "with open('q1-test.json') as f:\n",
    "    lines = f.readlines()\n",
    "s=''\n",
    "for i in lines:\n",
    "    s += i\n",
    "    \n",
    "temp = json.loads(s)\n",
    "observs = [None]*len(temp)\n",
    "for idx, i in enumerate(temp):\n",
    "    observs[idx] = [ord(j) - ord('a') for j in i]\n",
    "for i in range(len(observs)):\n",
    "    observs[i] = np.array(observs[i])"
   ]
  },
  {
   "cell_type": "code",
   "execution_count": 53,
   "id": "stone-privilege",
   "metadata": {},
   "outputs": [],
   "source": [
    "def normalize(arr):\n",
    "    for i in range(len(arr)):\n",
    "        arr[i] = arr[i] / np.sum(arr[i])\n",
    "    return arr\n",
    "\n",
    "def forward(A, B, pi, obs):\n",
    "    T = len(obs)\n",
    "    N = A.shape[0]\n",
    "    k = B.shape[1]\n",
    "    \n",
    "    normalized = []\n",
    "    alpha = np.zeros((N, T))\n",
    "    alpha[:, 0] = pi * B[:, obs[0]]\n",
    "    normalized.append(np.sum(alpha[:, 0]))\n",
    "    alpha[:, 0] /= np.sum(alpha[:, 0] + 1e-9)\n",
    "    for j in range(1, T):\n",
    "        for i in range(N):\n",
    "            alpha[i, j] = B[i, obs[j]] * (alpha[:, j - 1] @ A[:, i])\n",
    "        normalized.append(np.sum(alpha[:, j]))\n",
    "        alpha[:, j] /= np.sum(alpha[:, j] + 1e-9)\n",
    "    \n",
    "    return alpha, normalized\n",
    "\n",
    "def backward(A, B, pi, obs, normalizer=None):\n",
    "    T = len(obs)\n",
    "    N = A.shape[0]\n",
    "    k = B.shape[1]\n",
    "    \n",
    "    beta = np.zeros((N, T))\n",
    "    for i in range(N):\n",
    "        beta[i, T - 1] = 1\n",
    "    beta[:, T - 1] *= normalizer[T - 1]\n",
    "    \n",
    "    for i in range(1, T):\n",
    "        j = T - i - 1\n",
    "        beta[:, j] = A @ (beta[:, j + 1] * B[:, obs[j + 1]])\n",
    "        if normalizer != None:\n",
    "            beta[:, j] *= normalizer[j]\n",
    "    return beta\n",
    "    \n",
    "    \n",
    "def new_matrices(A, B, pi, obs):\n",
    "    T = len(obs)\n",
    "    N = A.shape[0]\n",
    "    k = B.shape[1]\n",
    "    alpha, normalizer = forward(A, B, pi, obs)\n",
    "    beta = backward(A, B, pi, obs, normalizer)\n",
    "    \n",
    "    gamma = np.zeros((N, T))\n",
    "    \n",
    "    for j in range(1, T):\n",
    "        for i in range(N):\n",
    "            gamma[i, j] = (alpha[i, j] * beta[i, j])/(alpha[:, j] @ beta[:, j])\n",
    "            \n",
    "    psi = np.zeros((N, N, T - 1))\n",
    "    for i in range(N):\n",
    "        for j in range(N):\n",
    "            for k in range(T - 1):\n",
    "                psi[i, j, k] = (alpha[i, k] * A[i, j] * beta[j, k + 1] * B[j, obs[k + 1]])/(alpha[:, k] @ (A @ (beta[:, k + 1] * B[:, obs[k + 1]])))\n",
    "    k = B.shape[1]\n",
    "    new_pi = gamma[:, 0]\n",
    "    new_A = sum([psi[:, :, i] for i in range(T - 1)]) / sum([gamma[:, i] for i in range(T - 1)])\n",
    "    new_B = np.zeros((N, k))\n",
    "    for i in range(N):\n",
    "        for j in range(k):\n",
    "            new_B[i, j] = np.sum([i for idx, i in enumerate(gamma[i]) if obs[idx] == j])/np.sum(gamma[i])\n",
    "    return normalize(new_A), normalize(new_B), new_pi / (np.sum(new_pi) + 1e-9)"
   ]
  },
  {
   "cell_type": "code",
   "execution_count": 54,
   "id": "connected-liquid",
   "metadata": {},
   "outputs": [
    {
     "name": "stderr",
     "output_type": "stream",
     "text": [
      "<ipython-input-53-5ca58c2c1eb6>:53: RuntimeWarning: invalid value encountered in double_scalars\n",
      "  gamma[i, j] = (alpha[i, j] * beta[i, j])/(alpha[:, j] @ beta[:, j])\n",
      "<ipython-input-53-5ca58c2c1eb6>:59: RuntimeWarning: invalid value encountered in double_scalars\n",
      "  psi[i, j, k] = (alpha[i, k] * A[i, j] * beta[j, k + 1] * B[j, obs[k + 1]])/(alpha[:, k] @ (A @ (beta[:, k + 1] * B[:, obs[k + 1]])))\n"
     ]
    },
    {
     "data": {
      "text/plain": [
       "(array([[nan, nan, nan, nan, nan],\n",
       "        [nan, nan, nan, nan, nan],\n",
       "        [nan, nan, nan, nan, nan],\n",
       "        [nan, nan, nan, nan, nan],\n",
       "        [nan, nan, nan, nan, nan]]),\n",
       " array([[nan, nan, nan, nan, nan, nan, nan],\n",
       "        [nan, nan, nan, nan, nan, nan, nan],\n",
       "        [nan, nan, nan, nan, nan, nan, nan],\n",
       "        [nan, nan, nan, nan, nan, nan, nan],\n",
       "        [nan, nan, nan, nan, nan, nan, nan]]),\n",
       " array([0., 0., 0., 0., 0.]))"
      ]
     },
     "execution_count": 54,
     "metadata": {},
     "output_type": "execute_result"
    }
   ],
   "source": [
    "\n",
    "\n",
    "A = normalize(np.random.uniform(size=(5, 5)))\n",
    "B = normalize(np.random.uniform(size=(5, 7)))\n",
    "pi = np.random.uniform(size=(5))\n",
    "pi /= np.sum(pi)\n",
    "\n",
    "\n",
    "\n",
    "new_matrices(A, B, pi, observs[0])\n",
    "\n",
    "def baum_welch_multiple(A, B, pi, observs, n=5):\n",
    "    \n",
    "    for k in range(n):\n",
    "        new_A = np.zeros(shape=A.shape)\n",
    "        new_B = np.zeros(shape=B.shape)\n",
    "        new_pi = np.zeros(shape=pi.shape)\n",
    "        for i in observs:\n",
    "            temp1, temp2, temp3 = new_matrices(A, B, pi, i)\n",
    "            new_A += temp1\n",
    "            new_B += temp2\n",
    "            new_pi += temp3\n",
    "\n",
    "        new_A /= len(observs)\n",
    "        new_B /= len(observs)\n",
    "        new_pi /= len(observs)\n",
    "\n",
    "        A = normalize(new_A)\n",
    "        B = normalize(new_B)\n",
    "        pi = new_pi\n",
    "        pi /= np.sum(new_pi + 1e-9)\n",
    "    return A, B, pi\n",
    "baum_welch_multiple(A, B, pi, observs)\n",
    "        \n"
   ]
  },
  {
   "cell_type": "code",
   "execution_count": null,
   "id": "lesbian-secretariat",
   "metadata": {},
   "outputs": [],
   "source": [
    "def forward_temp(A, B, pi, obs):\n",
    "    T = len(obs)\n",
    "    N = A.shape[0]\n",
    "    k = B.shape[1]\n",
    "    \n",
    "    alpha = np.zeros((N, T))\n",
    "    alpha[:, 0] = pi * B[:, obs[0]]\n",
    "    alpha[:, 0] /= np.sum(alpha[:, 0])\n",
    "    for j in range(1, T):\n",
    "        for i in range(N):\n",
    "            alpha[i, j] = B[i, obs[j]] * (alpha[:, j - 1] @ A[:, i])\n",
    "\n",
    "    return alpha\n",
    "\n",
    "def obs_prob(A, B, pi, obs):\n",
    "    beta = backward(A, B, pi, obs)\n",
    "    return np.dot(pi, beta[:, ])\n",
    "\n",
    "lines = None\n",
    "with open('q1-test.json') as f:\n",
    "    lines = f.readlines()\n",
    "s=''\n",
    "for i in lines:\n",
    "    s += i\n",
    "    \n",
    "temp = json.loads(s)\n",
    "observs_test = [None]*len(temp)\n",
    "for idx, i in enumerate(temp):\n",
    "    observs_test[idx] = [ord(j) - ord('a') for j in i]\n",
    "for i in range(len(observs)):\n",
    "    observs_test[i] = np.array(observs_test[i])\n",
    "    \n",
    "for idx, i in enumerate(observs_test):\n",
    "    print(f'Accuracy {idx} : {obs_prob(A, B, pi, i)}')"
   ]
  },
  {
   "cell_type": "markdown",
   "id": "uniform-happiness",
   "metadata": {},
   "source": [
    "# Part 2"
   ]
  },
  {
   "cell_type": "code",
   "execution_count": 5,
   "id": "criminal-essex",
   "metadata": {},
   "outputs": [],
   "source": [
    "num_states = 5\n",
    "num_obs = 7\n",
    "\n",
    "T = np.zeros((num_states, num_states))\n",
    "O = np.zeros((num_states, num_obs))\n",
    "PI = np.zeros((num_states))\n",
    "\n",
    "lines = None\n",
    "with open('q2-train.json') as f:\n",
    "    lines = f.readlines()\n",
    "s=''\n",
    "for i in lines:\n",
    "    s += i\n",
    "    \n",
    "temp = json.loads(s)\n",
    "observs2 = [None]*len(temp)\n",
    "for idx, i in enumerate(temp):\n",
    "    observs2[idx] = [ord(j) - ord('a') for j in i]\n",
    "for i in range(len(observs2)):\n",
    "    observs2[i] = np.array(observs2[i])\n",
    "    \n",
    "    \n",
    "lines = None\n",
    "with open('q2-train-hidden.json') as f:\n",
    "    lines = f.readlines()\n",
    "s=''\n",
    "for i in lines:\n",
    "    s += i\n",
    "    \n",
    "temp = json.loads(s)\n",
    "hiddens = [None]*len(temp)\n",
    "for idx, i in enumerate(temp):\n",
    "    hiddens[idx] = [ord(j) - ord('0') for j in i]\n",
    "for i in range(len(hiddens)):\n",
    "    hiddens[i] = np.array(hiddens[i])"
   ]
  },
  {
   "cell_type": "code",
   "execution_count": 16,
   "id": "becoming-youth",
   "metadata": {},
   "outputs": [
    {
     "data": {
      "text/plain": [
       "array([[0.20055469, 0.        , 0.39957168, 0.39987364, 0.        ],\n",
       "       [0.        , 0.39983539, 0.20082606, 0.39933855, 0.        ],\n",
       "       [0.39963727, 0.30025521, 0.        , 0.        , 0.30010752],\n",
       "       [0.40028119, 0.30015197, 0.        , 0.        , 0.29956684],\n",
       "       [0.        , 0.        , 0.19946893, 0.40068062, 0.39985045]])"
      ]
     },
     "execution_count": 16,
     "metadata": {},
     "output_type": "execute_result"
    }
   ],
   "source": [
    "def normalize(arr):\n",
    "    for i in range(len(arr)):\n",
    "        arr[i] = arr[i] / np.sum(arr[i])\n",
    "    return arr\n",
    "\n",
    "for i in hiddens:\n",
    "    PI[i] += i[0]\n",
    "    \n",
    "for i in hiddens:\n",
    "    for j in range(1, len(i)):\n",
    "        T[i[j - 1], i[j]] += 1\n",
    "\n",
    "for i in range(len(hiddens)):\n",
    "    if len(observs2[i]) != len(hiddens[i]):\n",
    "        raise Exception()\n",
    "    for j in range(len(hiddens[i])):\n",
    "        O[hiddens[i][j], observs2[i][j]] += 1\n",
    "\n",
    "T = normalize(T)\n",
    "O = normalize(O)\n",
    "PI = PI / np.sum(PI)\n",
    "\n",
    "T"
   ]
  },
  {
   "cell_type": "code",
   "execution_count": 8,
   "id": "normal-terminal",
   "metadata": {},
   "outputs": [],
   "source": [
    "def viterbi(T, O, PI, obs):\n",
    "    dp = np.zeros((num_states, len(obs)))\n",
    "    recurse = np.zeros((num_states, len(obs)), dtype=np.int8)\n",
    "    for i in range(num_states):\n",
    "        dp[i, 0] = PI[i] * O[i, obs[0]]\n",
    "        recurse[i, 0] = -1\n",
    "    \n",
    "    for j in range(1, len(obs)):\n",
    "        for i in range(num_states):\n",
    "            arr = [dp[k, j - 1] * T[k, i] * O[i, obs[j]] for k in range(num_states)]\n",
    "            recurse[i, j] = np.argmax(arr)\n",
    "            dp[i, j] = np.max(arr)\n",
    "        dp[:, j] *= 3\n",
    "    \n",
    "    idx = len(obs) - 1\n",
    "    s = np.argmax(dp[:, idx])\n",
    "    states = [s]\n",
    "    while idx >= 0:\n",
    "        s = recurse[s, idx]\n",
    "        idx -= 1\n",
    "        states.append(s)\n",
    "    return states[:-1][::-1]\n"
   ]
  },
  {
   "cell_type": "code",
   "execution_count": 9,
   "id": "identical-discrimination",
   "metadata": {},
   "outputs": [],
   "source": [
    "lines = None\n",
    "with open('q2-test.json') as f:\n",
    "    lines = f.readlines()\n",
    "s=''\n",
    "for i in lines:\n",
    "    s += i\n",
    "    \n",
    "temp = json.loads(s)\n",
    "observs_test = [None]*len(temp)\n",
    "for idx, i in enumerate(temp):\n",
    "    observs_test[idx] = [ord(j) - ord('a') for j in i]\n",
    "for i in range(len(observs_test)):\n",
    "    observs_test[i] = np.array(observs_test[i])"
   ]
  },
  {
   "cell_type": "code",
   "execution_count": 10,
   "id": "cubic-castle",
   "metadata": {},
   "outputs": [],
   "source": [
    "ans = viterbi(T, O, PI, observs_test[0])"
   ]
  },
  {
   "cell_type": "code",
   "execution_count": 11,
   "id": "violent-defense",
   "metadata": {},
   "outputs": [
    {
     "name": "stdout",
     "output_type": "stream",
     "text": [
      "0->b\n",
      "3->c\n",
      "0->a\n",
      "3->c\n",
      "0->a\n",
      "2->e\n",
      "0->b\n",
      "2->g\n",
      "0->b\n",
      "3->c\n",
      "1->d\n",
      "1->g\n",
      "2->f\n",
      "0->b\n",
      "2->e\n",
      "1->d\n",
      "3->c\n",
      "0->b\n",
      "0->d\n",
      "2->f\n",
      "0->a\n",
      "2->d\n",
      "0->b\n",
      "0->c\n",
      "3->c\n",
      "0->b\n",
      "2->d\n",
      "0->a\n",
      "3->c\n",
      "0->c\n",
      "2->g\n",
      "1->e\n",
      "1->d\n",
      "3->c\n",
      "4->g\n",
      "4->a\n",
      "4->g\n",
      "3->c\n",
      "4->g\n",
      "3->c\n",
      "4->c\n",
      "3->c\n",
      "1->d\n",
      "2->g\n",
      "4->e\n",
      "3->c\n",
      "4->g\n",
      "3->c\n",
      "0->a\n",
      "3->c\n",
      "4->f\n",
      "4->b\n",
      "3->c\n",
      "0->g\n",
      "2->g\n",
      "4->f\n",
      "4->g\n",
      "2->e\n",
      "0->b\n",
      "0->b\n",
      "3->c\n",
      "0->a\n",
      "2->e\n",
      "0->b\n",
      "3->c\n",
      "0->a\n",
      "2->d\n",
      "0->a\n",
      "3->c\n",
      "0->b\n",
      "2->d\n",
      "4->g\n",
      "3->c\n",
      "4->g\n",
      "3->c\n",
      "4->b\n",
      "4->e\n",
      "3->c\n",
      "0->a\n",
      "3->c\n",
      "4->g\n",
      "3->c\n",
      "4->g\n",
      "4->f\n",
      "3->c\n",
      "1->d\n",
      "1->d\n",
      "1->e\n",
      "1->d\n",
      "3->c\n",
      "0->a\n",
      "2->e\n",
      "1->d\n",
      "3->c\n",
      "0->a\n",
      "3->c\n",
      "1->d\n",
      "1->d\n",
      "2->g\n",
      "0->b\n"
     ]
    }
   ],
   "source": [
    "for i in range(len(ans)):\n",
    "    print(f'{ans[i]}->{chr(observs_test[0][i] + ord(\"a\"))}')"
   ]
  },
  {
   "cell_type": "code",
   "execution_count": 13,
   "id": "heard-frank",
   "metadata": {},
   "outputs": [
    {
     "data": {
      "text/plain": [
       "array([[0.20055469, 0.        , 0.39957168, 0.39987364, 0.        ],\n",
       "       [0.        , 0.39983539, 0.20082606, 0.39933855, 0.        ],\n",
       "       [0.39963727, 0.30025521, 0.        , 0.        , 0.30010752],\n",
       "       [0.40028119, 0.30015197, 0.        , 0.        , 0.29956684],\n",
       "       [0.        , 0.        , 0.19946893, 0.40068062, 0.39985045]])"
      ]
     },
     "execution_count": 13,
     "metadata": {},
     "output_type": "execute_result"
    }
   ],
   "source": [
    "T"
   ]
  },
  {
   "cell_type": "code",
   "execution_count": 14,
   "id": "decimal-walter",
   "metadata": {},
   "outputs": [
    {
     "data": {
      "text/plain": [
       "array([[0.19960155, 0.5010026 , 0.09988979, 0.09961925, 0.        ,\n",
       "        0.        , 0.09988681],\n",
       "       [0.09978744, 0.10052268, 0.09960513, 0.40009736, 0.09975839,\n",
       "        0.10024622, 0.09998277],\n",
       "       [0.        , 0.        , 0.        , 0.25075263, 0.24979326,\n",
       "        0.24957091, 0.2498832 ],\n",
       "       [0.        , 0.        , 1.        , 0.        , 0.        ,\n",
       "        0.        , 0.        ],\n",
       "       [0.150348  , 0.15016344, 0.14049832, 0.13974605, 0.13978116,\n",
       "        0.13970694, 0.13975609]])"
      ]
     },
     "execution_count": 14,
     "metadata": {},
     "output_type": "execute_result"
    }
   ],
   "source": [
    "O"
   ]
  },
  {
   "cell_type": "code",
   "execution_count": 21,
   "id": "assumed-ecuador",
   "metadata": {},
   "outputs": [
    {
     "data": {
      "text/plain": [
       "array([0.5986, 0.0989, 0.1029, 0.1   , 0.0996])"
      ]
     },
     "execution_count": 21,
     "metadata": {},
     "output_type": "execute_result"
    }
   ],
   "source": [
    "PI"
   ]
  },
  {
   "cell_type": "code",
   "execution_count": 20,
   "id": "junior-russian",
   "metadata": {},
   "outputs": [],
   "source": [
    "PI = np.zeros((num_states))\n",
    "for i in hiddens:\n",
    "    PI[i[0]] += 1\n",
    "PI = PI / np.sum(PI)"
   ]
  },
  {
   "cell_type": "code",
   "execution_count": null,
   "id": "artistic-fundamentals",
   "metadata": {},
   "outputs": [],
   "source": []
  }
 ],
 "metadata": {
  "kernelspec": {
   "display_name": "Python 3",
   "language": "python",
   "name": "python3"
  },
  "language_info": {
   "codemirror_mode": {
    "name": "ipython",
    "version": 3
   },
   "file_extension": ".py",
   "mimetype": "text/x-python",
   "name": "python",
   "nbconvert_exporter": "python",
   "pygments_lexer": "ipython3",
   "version": "3.9.6"
  }
 },
 "nbformat": 4,
 "nbformat_minor": 5
}
